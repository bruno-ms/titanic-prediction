{
 "cells": [
  {
   "cell_type": "markdown",
   "id": "6a05e33d-2301-4736-93ab-84773e50a0d3",
   "metadata": {},
   "source": [
    "# Random Forest\n",
    "\n",
    "Solve for the Titanic Survivors Prediction Kaggle competition usind Random Forest Classifier.\n",
    "\n",
    "Dataset can be obtained <a href=\"https://www.kaggle.com/c/titanic/data\" target=\"_blank\">here</a>.\n",
    "\n",
    "## Libraries"
   ]
  },
  {
   "cell_type": "code",
   "execution_count": 122,
   "id": "9673ff4e-329b-4cf4-9597-dd7d1aa8d1c3",
   "metadata": {},
   "outputs": [],
   "source": [
    "import pandas as pd\n",
    "import numpy as np\n",
    "import seaborn as sns\n",
    "import matplotlib.pyplot as plt\n",
    "from sklearn.metrics import confusion_matrix, accuracy_score\n",
    "from sklearn.ensemble import RandomForestClassifier\n",
    "from sklearn.model_selection import train_test_split"
   ]
  },
  {
   "cell_type": "markdown",
   "id": "d7ae4234-0836-4613-ad1c-dfeacc55992a",
   "metadata": {},
   "source": [
    "## Importing and checking the data"
   ]
  },
  {
   "cell_type": "code",
   "execution_count": 2,
   "id": "fa65fd8d-c799-4369-a808-09bbabd2829b",
   "metadata": {},
   "outputs": [
    {
     "name": "stdout",
     "output_type": "stream",
     "text": [
      "(891, 12)\n"
     ]
    },
    {
     "data": {
      "text/html": [
       "<div>\n",
       "<style scoped>\n",
       "    .dataframe tbody tr th:only-of-type {\n",
       "        vertical-align: middle;\n",
       "    }\n",
       "\n",
       "    .dataframe tbody tr th {\n",
       "        vertical-align: top;\n",
       "    }\n",
       "\n",
       "    .dataframe thead th {\n",
       "        text-align: right;\n",
       "    }\n",
       "</style>\n",
       "<table border=\"1\" class=\"dataframe\">\n",
       "  <thead>\n",
       "    <tr style=\"text-align: right;\">\n",
       "      <th></th>\n",
       "      <th>PassengerId</th>\n",
       "      <th>Survived</th>\n",
       "      <th>Pclass</th>\n",
       "      <th>Name</th>\n",
       "      <th>Sex</th>\n",
       "      <th>Age</th>\n",
       "      <th>SibSp</th>\n",
       "      <th>Parch</th>\n",
       "      <th>Ticket</th>\n",
       "      <th>Fare</th>\n",
       "      <th>Cabin</th>\n",
       "      <th>Embarked</th>\n",
       "    </tr>\n",
       "  </thead>\n",
       "  <tbody>\n",
       "    <tr>\n",
       "      <th>0</th>\n",
       "      <td>1</td>\n",
       "      <td>0</td>\n",
       "      <td>3</td>\n",
       "      <td>Braund, Mr. Owen Harris</td>\n",
       "      <td>male</td>\n",
       "      <td>22.0</td>\n",
       "      <td>1</td>\n",
       "      <td>0</td>\n",
       "      <td>A/5 21171</td>\n",
       "      <td>7.2500</td>\n",
       "      <td>NaN</td>\n",
       "      <td>S</td>\n",
       "    </tr>\n",
       "    <tr>\n",
       "      <th>1</th>\n",
       "      <td>2</td>\n",
       "      <td>1</td>\n",
       "      <td>1</td>\n",
       "      <td>Cumings, Mrs. John Bradley (Florence Briggs Th...</td>\n",
       "      <td>female</td>\n",
       "      <td>38.0</td>\n",
       "      <td>1</td>\n",
       "      <td>0</td>\n",
       "      <td>PC 17599</td>\n",
       "      <td>71.2833</td>\n",
       "      <td>C85</td>\n",
       "      <td>C</td>\n",
       "    </tr>\n",
       "    <tr>\n",
       "      <th>2</th>\n",
       "      <td>3</td>\n",
       "      <td>1</td>\n",
       "      <td>3</td>\n",
       "      <td>Heikkinen, Miss. Laina</td>\n",
       "      <td>female</td>\n",
       "      <td>26.0</td>\n",
       "      <td>0</td>\n",
       "      <td>0</td>\n",
       "      <td>STON/O2. 3101282</td>\n",
       "      <td>7.9250</td>\n",
       "      <td>NaN</td>\n",
       "      <td>S</td>\n",
       "    </tr>\n",
       "    <tr>\n",
       "      <th>3</th>\n",
       "      <td>4</td>\n",
       "      <td>1</td>\n",
       "      <td>1</td>\n",
       "      <td>Futrelle, Mrs. Jacques Heath (Lily May Peel)</td>\n",
       "      <td>female</td>\n",
       "      <td>35.0</td>\n",
       "      <td>1</td>\n",
       "      <td>0</td>\n",
       "      <td>113803</td>\n",
       "      <td>53.1000</td>\n",
       "      <td>C123</td>\n",
       "      <td>S</td>\n",
       "    </tr>\n",
       "    <tr>\n",
       "      <th>4</th>\n",
       "      <td>5</td>\n",
       "      <td>0</td>\n",
       "      <td>3</td>\n",
       "      <td>Allen, Mr. William Henry</td>\n",
       "      <td>male</td>\n",
       "      <td>35.0</td>\n",
       "      <td>0</td>\n",
       "      <td>0</td>\n",
       "      <td>373450</td>\n",
       "      <td>8.0500</td>\n",
       "      <td>NaN</td>\n",
       "      <td>S</td>\n",
       "    </tr>\n",
       "    <tr>\n",
       "      <th>5</th>\n",
       "      <td>6</td>\n",
       "      <td>0</td>\n",
       "      <td>3</td>\n",
       "      <td>Moran, Mr. James</td>\n",
       "      <td>male</td>\n",
       "      <td>NaN</td>\n",
       "      <td>0</td>\n",
       "      <td>0</td>\n",
       "      <td>330877</td>\n",
       "      <td>8.4583</td>\n",
       "      <td>NaN</td>\n",
       "      <td>Q</td>\n",
       "    </tr>\n",
       "    <tr>\n",
       "      <th>6</th>\n",
       "      <td>7</td>\n",
       "      <td>0</td>\n",
       "      <td>1</td>\n",
       "      <td>McCarthy, Mr. Timothy J</td>\n",
       "      <td>male</td>\n",
       "      <td>54.0</td>\n",
       "      <td>0</td>\n",
       "      <td>0</td>\n",
       "      <td>17463</td>\n",
       "      <td>51.8625</td>\n",
       "      <td>E46</td>\n",
       "      <td>S</td>\n",
       "    </tr>\n",
       "    <tr>\n",
       "      <th>7</th>\n",
       "      <td>8</td>\n",
       "      <td>0</td>\n",
       "      <td>3</td>\n",
       "      <td>Palsson, Master. Gosta Leonard</td>\n",
       "      <td>male</td>\n",
       "      <td>2.0</td>\n",
       "      <td>3</td>\n",
       "      <td>1</td>\n",
       "      <td>349909</td>\n",
       "      <td>21.0750</td>\n",
       "      <td>NaN</td>\n",
       "      <td>S</td>\n",
       "    </tr>\n",
       "    <tr>\n",
       "      <th>8</th>\n",
       "      <td>9</td>\n",
       "      <td>1</td>\n",
       "      <td>3</td>\n",
       "      <td>Johnson, Mrs. Oscar W (Elisabeth Vilhelmina Berg)</td>\n",
       "      <td>female</td>\n",
       "      <td>27.0</td>\n",
       "      <td>0</td>\n",
       "      <td>2</td>\n",
       "      <td>347742</td>\n",
       "      <td>11.1333</td>\n",
       "      <td>NaN</td>\n",
       "      <td>S</td>\n",
       "    </tr>\n",
       "    <tr>\n",
       "      <th>9</th>\n",
       "      <td>10</td>\n",
       "      <td>1</td>\n",
       "      <td>2</td>\n",
       "      <td>Nasser, Mrs. Nicholas (Adele Achem)</td>\n",
       "      <td>female</td>\n",
       "      <td>14.0</td>\n",
       "      <td>1</td>\n",
       "      <td>0</td>\n",
       "      <td>237736</td>\n",
       "      <td>30.0708</td>\n",
       "      <td>NaN</td>\n",
       "      <td>C</td>\n",
       "    </tr>\n",
       "  </tbody>\n",
       "</table>\n",
       "</div>"
      ],
      "text/plain": [
       "   PassengerId  Survived  Pclass  \\\n",
       "0            1         0       3   \n",
       "1            2         1       1   \n",
       "2            3         1       3   \n",
       "3            4         1       1   \n",
       "4            5         0       3   \n",
       "5            6         0       3   \n",
       "6            7         0       1   \n",
       "7            8         0       3   \n",
       "8            9         1       3   \n",
       "9           10         1       2   \n",
       "\n",
       "                                                Name     Sex   Age  SibSp  \\\n",
       "0                            Braund, Mr. Owen Harris    male  22.0      1   \n",
       "1  Cumings, Mrs. John Bradley (Florence Briggs Th...  female  38.0      1   \n",
       "2                             Heikkinen, Miss. Laina  female  26.0      0   \n",
       "3       Futrelle, Mrs. Jacques Heath (Lily May Peel)  female  35.0      1   \n",
       "4                           Allen, Mr. William Henry    male  35.0      0   \n",
       "5                                   Moran, Mr. James    male   NaN      0   \n",
       "6                            McCarthy, Mr. Timothy J    male  54.0      0   \n",
       "7                     Palsson, Master. Gosta Leonard    male   2.0      3   \n",
       "8  Johnson, Mrs. Oscar W (Elisabeth Vilhelmina Berg)  female  27.0      0   \n",
       "9                Nasser, Mrs. Nicholas (Adele Achem)  female  14.0      1   \n",
       "\n",
       "   Parch            Ticket     Fare Cabin Embarked  \n",
       "0      0         A/5 21171   7.2500   NaN        S  \n",
       "1      0          PC 17599  71.2833   C85        C  \n",
       "2      0  STON/O2. 3101282   7.9250   NaN        S  \n",
       "3      0            113803  53.1000  C123        S  \n",
       "4      0            373450   8.0500   NaN        S  \n",
       "5      0            330877   8.4583   NaN        Q  \n",
       "6      0             17463  51.8625   E46        S  \n",
       "7      1            349909  21.0750   NaN        S  \n",
       "8      2            347742  11.1333   NaN        S  \n",
       "9      0            237736  30.0708   NaN        C  "
      ]
     },
     "execution_count": 2,
     "metadata": {},
     "output_type": "execute_result"
    }
   ],
   "source": [
    "train = pd.read_csv('train.csv')\n",
    "print(train.shape)\n",
    "train.head(10)"
   ]
  },
  {
   "cell_type": "code",
   "execution_count": 3,
   "id": "bceec2b3-bdb7-415f-8154-73498c54f247",
   "metadata": {},
   "outputs": [
    {
     "data": {
      "text/plain": [
       "PassengerId      0\n",
       "Survived         0\n",
       "Pclass           0\n",
       "Name             0\n",
       "Sex              0\n",
       "Age            177\n",
       "SibSp            0\n",
       "Parch            0\n",
       "Ticket           0\n",
       "Fare             0\n",
       "Cabin          687\n",
       "Embarked         2\n",
       "dtype: int64"
      ]
     },
     "execution_count": 3,
     "metadata": {},
     "output_type": "execute_result"
    }
   ],
   "source": [
    "train.isnull().sum()"
   ]
  },
  {
   "cell_type": "markdown",
   "id": "43a576d2-429c-4863-beb9-a9dd6900290f",
   "metadata": {},
   "source": [
    "We can see that there is a lot o missing data for Age and Cabin. We'll leave it as is, since this columns won't be used in our predictive model."
   ]
  },
  {
   "cell_type": "code",
   "execution_count": 4,
   "id": "fa0b1ef4-cfd2-4d91-997d-a100648e429d",
   "metadata": {},
   "outputs": [
    {
     "data": {
      "text/plain": [
       "PassengerId      int64\n",
       "Survived         int64\n",
       "Pclass           int64\n",
       "Name            object\n",
       "Sex             object\n",
       "Age            float64\n",
       "SibSp            int64\n",
       "Parch            int64\n",
       "Ticket          object\n",
       "Fare           float64\n",
       "Cabin           object\n",
       "Embarked        object\n",
       "dtype: object"
      ]
     },
     "execution_count": 4,
     "metadata": {},
     "output_type": "execute_result"
    }
   ],
   "source": [
    "train.dtypes"
   ]
  },
  {
   "cell_type": "markdown",
   "id": "5432b855-8cb4-4ea1-9e28-0ff7ddf87d86",
   "metadata": {},
   "source": [
    "## Data Exploration\n",
    "\n",
    "Before going into our model, let's see what we can discover from all the data we got. First, lets see the percentage of the survivors."
   ]
  },
  {
   "cell_type": "code",
   "execution_count": 127,
   "id": "db3e94c6-0d8b-4399-bf7a-b8b52fd4cbcc",
   "metadata": {},
   "outputs": [
    {
     "name": "stdout",
     "output_type": "stream",
     "text": [
      "38.38% of the people on the ship survived.\n",
      "74.20% of the women survived.\n",
      "18.89% of the men survived.\n",
      "53.98 of the children survived.\n"
     ]
    }
   ],
   "source": [
    "total_survived = sum(train['Survived'])/len(train)\n",
    "print(f'{total_survived*100:.2f}% of the people on the ship survived.')\n",
    "\n",
    "women = train.loc[train.Sex == 'female']\n",
    "women_survived = sum(women['Survived'])/(len(women))\n",
    "print(f'{women_survived*100:.2f}% of the women survived.')\n",
    "\n",
    "men = train.loc[train.Sex == 'male']\n",
    "men_survived = sum(man['Survived']/len(man))\n",
    "print(f'{men_survived*100:.2f}% of the men survived.')\n",
    "\n",
    "children = train.loc[train.Age < 18]\n",
    "children_survived = sum(children['Survived'])/len(children)\n",
    "print(f'{children_survived*100:.2f} of the children survived.')"
   ]
  },
  {
   "cell_type": "markdown",
   "id": "e306c6c9-f177-40d1-9b00-20a33f1ef591",
   "metadata": {},
   "source": [
    "Note: children (age<18) are also included on men and women data.\n",
    "\n",
    "We got the percentages, but we can also show it with some plots."
   ]
  },
  {
   "cell_type": "code",
   "execution_count": 175,
   "id": "f9602506-7093-4198-97f5-da2eecaa7c38",
   "metadata": {},
   "outputs": [
    {
     "data": {
      "text/plain": [
       "[Text(0.5, 1.0, 'Children'), Text(0.5, 0, ''), Text(0, 0.5, '')]"
      ]
     },
     "execution_count": 175,
     "metadata": {},
     "output_type": "execute_result"
    },
    {
     "data": {
      "image/png": "[encoded data removed]",
      "text/plain": [
       "<Figure size 1152x648 with 4 Axes>"
      ]
     },
     "metadata": {
      "needs_background": "light"
     },
     "output_type": "display_data"
    }
   ],
   "source": [
    "plt.figure(1, figsize=(16,9))\n",
    "plt.suptitle('Proportion of Survivors', fontsize = 18)\n",
    "\n",
    "plt.subplot(1,4,1)\n",
    "sns.countplot(x='Survived', data = train, palette = 'viridis').set(title = 'Total', xlabel = None)\n",
    "\n",
    "plt.subplot(1,4,2)\n",
    "sns.countplot(x='Survived', data = women, palette = 'viridis').set(title = 'Women', xlabel = None, ylabel = None)\n",
    "\n",
    "plt.subplot(1,4,3)\n",
    "sns.countplot(x='Survived', data = men, palette = 'viridis').set(title = 'Men', xlabel = None, ylabel = None)\n",
    "\n",
    "plt.subplot(1,4,4)\n",
    "sns.countplot(x='Survived', data = children, palette = 'viridis').set(title = 'Children', xlabel = None, ylabel = None)\n"
   ]
  },
  {
   "cell_type": "markdown",
   "id": "8a4b89a3-2fe0-4c09-9e24-76d99097c464",
   "metadata": {},
   "source": [
    "Now, let's see how age relates to the survivors. "
   ]
  },
  {
   "cell_type": "code",
   "execution_count": 193,
   "id": "24e276ec-20b6-4888-9b16-4b910f684416",
   "metadata": {},
   "outputs": [],
   "source": [
    "group_total = train[train.Survived == 1]\n",
    "group_women = women[women.Survived == 1]\n",
    "group_men = men[men.Survived == 1]\n",
    "group_children = children[children.Survived == 1]"
   ]
  },
  {
   "cell_type": "code",
   "execution_count": 197,
   "id": "4513334e-ecc4-4d6d-bec0-6fdd70939327",
   "metadata": {},
   "outputs": [
    {
     "data": {
      "text/plain": [
       "Text(0.5, 0, 'Age')"
      ]
     },
     "execution_count": 197,
     "metadata": {},
     "output_type": "execute_result"
    },
    {
     "data": {
      "image/png": "[encoded data removed]",
      "text/plain": [
       "<Figure size 1152x648 with 4 Axes>"
      ]
     },
     "metadata": {
      "needs_background": "light"
     },
     "output_type": "display_data"
    }
   ],
   "source": [
    "plt.figure(1, figsize = (16,9))\n",
    "\n",
    "plt.subplot(2,2,1)\n",
    "plt.hist(group_total.iloc[:,5].dropna(), color = 'mediumseagreen')\n",
    "plt.title('Total')\n",
    "\n",
    "plt.subplot(2,2,2)\n",
    "plt.hist(group_women.iloc[:,5].dropna(), color = 'mediumseagreen')\n",
    "plt.title('Women')\n",
    "\n",
    "plt.subplot(2,2,3)\n",
    "plt.hist(group_men.iloc[:,5].dropna(), color='mediumseagreen')\n",
    "plt.title('Men')\n",
    "plt.xlabel('Age')\n",
    "\n",
    "plt.subplot(2,2,4)\n",
    "plt.hist(group_children.iloc[:,5].dropna(), color='mediumseagreen')\n",
    "plt.title('Children')\n",
    "plt.xlabel('Age')"
   ]
  },
  {
   "cell_type": "markdown",
   "id": "2d97c503-abe6-4d8b-b58d-e3c206eeb087",
   "metadata": {},
   "source": [
    "As we can see, younger adults were the main ones that survived, especially women. Among children, teenagers and newborns survived most.\n",
    "\n",
    "Now, let's create our predictive model."
   ]
  },
  {
   "cell_type": "markdown",
   "id": "8fee04af-fb24-4a85-b912-214774deeebd",
   "metadata": {},
   "source": [
    "### Random Forest Classifier\n",
    "\n",
    "First, we define our variables, get dummies, since 'sex' is a categorical column, and split them between trainning and testing. After a few tests, I decided to go with 'Pclass', 'Sex', 'SibSp', 'Parch' and 'Fare', since it was the higher accuracy I could get."
   ]
  },
  {
   "cell_type": "code",
   "execution_count": 206,
   "id": "736f6c6d-e185-4c38-b8b0-951d7e857a8f",
   "metadata": {},
   "outputs": [],
   "source": [
    "y = train['Survived']\n",
    "\n",
    "features = ['Pclass', 'Sex', 'SibSp', 'Parch', 'Fare']\n",
    "x = pd.get_dummies(train[features])\n",
    "\n",
    "x_train, x_test, y_train, y_test = train_test_split(x, y, test_size = 0.3, random_state = 0)"
   ]
  },
  {
   "cell_type": "markdown",
   "id": "a5acf1f3-018f-4799-8ad7-28d060f24dbf",
   "metadata": {},
   "source": [
    "Now we create de model and fit the data."
   ]
  },
  {
   "cell_type": "code",
   "execution_count": 207,
   "id": "c80da7f7-3c9b-49ee-9a9a-67fdd1443430",
   "metadata": {},
   "outputs": [
    {
     "data": {
      "text/plain": [
       "RandomForestClassifier(max_depth=100, random_state=1)"
      ]
     },
     "execution_count": 207,
     "metadata": {},
     "output_type": "execute_result"
    }
   ],
   "source": [
    "forest = RandomForestClassifier(n_estimators = 100, max_depth=100, random_state=1)\n",
    "forest.fit(x,y)"
   ]
  },
  {
   "cell_type": "markdown",
   "id": "1da24ee8-b022-49dd-ab92-73feb7a0f2ca",
   "metadata": {},
   "source": [
    "Now we can see the results, whith our confusion matrix and the accuracy obtained with the test data."
   ]
  },
  {
   "cell_type": "code",
   "execution_count": 208,
   "id": "e192510d-b62c-4ec8-b757-ebc56a4fb1af",
   "metadata": {},
   "outputs": [
    {
     "name": "stdout",
     "output_type": "stream",
     "text": [
      "[[159   9]\n",
      " [  9  91]]\n",
      "0.9328358208955224\n"
     ]
    }
   ],
   "source": [
    "predict = forest.predict(x_test)\n",
    "confusion = confusion_matrix(y_test,predict)\n",
    "print(confusion)\n",
    "accuracy = accuracy_score(y_test,predict)\n",
    "print(accuracy)"
   ]
  },
  {
   "cell_type": "markdown",
   "id": "f3901e1f-5d98-4df6-a370-34b8f52bdf4f",
   "metadata": {},
   "source": [
    "## Prediction with the new data\n",
    "\n",
    "First, we import our new data and check for non availabe data. "
   ]
  },
  {
   "cell_type": "code",
   "execution_count": 210,
   "id": "37baa97f-e23b-4565-a510-701c222fdf26",
   "metadata": {},
   "outputs": [
    {
     "data": {
      "text/plain": [
       "Pclass        0\n",
       "SibSp         0\n",
       "Parch         0\n",
       "Fare          1\n",
       "Sex_female    0\n",
       "Sex_male      0\n",
       "dtype: int64"
      ]
     },
     "execution_count": 210,
     "metadata": {},
     "output_type": "execute_result"
    }
   ],
   "source": [
    "test_data = pd.read_csv('test.csv')\n",
    "x_test_data = pd.get_dummies(test_data[features])\n",
    "x_test_data.isna().sum()"
   ]
  },
  {
   "cell_type": "markdown",
   "id": "f73555f2-04a8-4e33-bd4e-101fcbc9023f",
   "metadata": {},
   "source": [
    "There's one missing value on our new dataset and we need to fill it for our prediction model to work. Here, I chose to use the median of the values, since the mean feels too high and the mode too low."
   ]
  },
  {
   "cell_type": "code",
   "execution_count": 15,
   "id": "b2b240fa-a19d-49f0-a4fc-d0082533ba83",
   "metadata": {},
   "outputs": [
    {
     "data": {
      "text/plain": [
       "Pclass        0\n",
       "SibSp         0\n",
       "Parch         0\n",
       "Fare          0\n",
       "Sex_female    0\n",
       "Sex_male      0\n",
       "dtype: int64"
      ]
     },
     "execution_count": 15,
     "metadata": {},
     "output_type": "execute_result"
    }
   ],
   "source": [
    "x_test_data.fillna(test_data['Fare'].median(), inplace = True)\n",
    "x_test_data.isna().sum()"
   ]
  },
  {
   "cell_type": "markdown",
   "id": "aaf49868-a174-464d-9618-8f84a563c482",
   "metadata": {},
   "source": [
    "Now that we have all the values, we can run the model."
   ]
  },
  {
   "cell_type": "code",
   "execution_count": 16,
   "id": "240241ed-9fcc-4276-9b73-68064c084ed6",
   "metadata": {},
   "outputs": [
    {
     "data": {
      "text/plain": [
       "array([0, 1, 0, 0, 1, 0, 0, 0, 1, 0, 0, 0, 1, 0, 1, 1, 0, 0, 0, 1, 0, 0,\n",
       "       1, 0, 1, 0, 1, 0, 1, 0, 0, 0, 0, 0, 1, 0, 0, 0, 0, 1, 1, 1, 0, 1,\n",
       "       1, 0, 1, 0, 1, 1, 0, 0, 1, 1, 0, 0, 0, 0, 0, 1, 0, 0, 0, 1, 1, 1,\n",
       "       1, 0, 0, 1, 1, 0, 1, 0, 1, 0, 0, 1, 0, 1, 1, 0, 0, 0, 0, 0, 1, 0,\n",
       "       1, 1, 0, 0, 1, 0, 0, 0, 1, 0, 0, 0, 1, 0, 0, 0, 0, 0, 0, 0, 0, 0,\n",
       "       0, 0, 1, 1, 1, 0, 0, 1, 1, 1, 1, 0, 1, 0, 0, 0, 0, 1, 0, 0, 0, 0,\n",
       "       0, 0, 0, 0, 0, 0, 0, 0, 0, 1, 1, 0, 1, 0, 0, 0, 1, 1, 1, 0, 0, 1,\n",
       "       1, 0, 1, 0, 1, 1, 1, 1, 1, 0, 0, 1, 0, 0, 1, 0, 0, 0, 0, 0, 0, 1,\n",
       "       1, 1, 1, 1, 0, 0, 1, 0, 1, 0, 1, 0, 0, 0, 0, 0, 0, 0, 1, 0, 0, 0,\n",
       "       0, 0, 0, 0, 0, 1, 0, 0, 1, 0, 1, 0, 0, 0, 0, 1, 1, 0, 1, 0, 1, 0,\n",
       "       1, 0, 1, 0, 1, 1, 0, 1, 0, 0, 0, 1, 0, 0, 0, 0, 1, 0, 1, 1, 1, 1,\n",
       "       0, 0, 0, 0, 1, 0, 1, 0, 1, 0, 0, 0, 0, 0, 0, 0, 1, 0, 0, 0, 1, 1,\n",
       "       0, 0, 0, 0, 0, 0, 1, 0, 1, 1, 0, 1, 0, 0, 0, 0, 0, 0, 1, 0, 1, 0,\n",
       "       0, 0, 0, 0, 0, 0, 0, 0, 0, 0, 1, 0, 0, 0, 0, 0, 0, 0, 1, 1, 1, 1,\n",
       "       0, 0, 0, 0, 0, 1, 1, 1, 0, 0, 0, 0, 0, 0, 0, 1, 1, 0, 1, 0, 0, 0,\n",
       "       1, 1, 0, 0, 0, 0, 0, 0, 0, 0, 0, 0, 0, 1, 0, 1, 0, 1, 0, 1, 1, 0,\n",
       "       0, 0, 0, 0, 1, 0, 0, 1, 0, 1, 1, 0, 1, 0, 0, 0, 1, 1, 0, 1, 0, 0,\n",
       "       1, 1, 0, 0, 0, 1, 0, 0, 0, 1, 0, 1, 0, 0, 0, 0, 0, 1, 1, 0, 0, 1,\n",
       "       0, 1, 0, 0, 1, 0, 1, 0, 0, 1, 0, 0, 1, 0, 1, 1, 0, 0, 1, 0, 0, 0],\n",
       "      dtype=int64)"
      ]
     },
     "execution_count": 16,
     "metadata": {},
     "output_type": "execute_result"
    }
   ],
   "source": [
    "x_test_data.isna().sum()\n",
    "results = forest.predict(x_test_data)\n",
    "results"
   ]
  },
  {
   "cell_type": "markdown",
   "id": "12c67ca5-ca2f-4c65-9b15-3ea2cf6f8c8e",
   "metadata": {},
   "source": [
    "Last thing we need to do is to write the results on an .csv file, which will be submitted to kaggle for us to see how accurate our model was."
   ]
  },
  {
   "cell_type": "code",
   "execution_count": 36,
   "id": "2dabc2f0-6d66-4ceb-b3bd-7f450f2b8d40",
   "metadata": {},
   "outputs": [
    {
     "name": "stdout",
     "output_type": "stream",
     "text": [
      "(418, 2)\n"
     ]
    },
    {
     "data": {
      "text/html": [
       "<div>\n",
       "<style scoped>\n",
       "    .dataframe tbody tr th:only-of-type {\n",
       "        vertical-align: middle;\n",
       "    }\n",
       "\n",
       "    .dataframe tbody tr th {\n",
       "        vertical-align: top;\n",
       "    }\n",
       "\n",
       "    .dataframe thead th {\n",
       "        text-align: right;\n",
       "    }\n",
       "</style>\n",
       "<table border=\"1\" class=\"dataframe\">\n",
       "  <thead>\n",
       "    <tr style=\"text-align: right;\">\n",
       "      <th></th>\n",
       "      <th>PassengerId</th>\n",
       "      <th>Survived</th>\n",
       "    </tr>\n",
       "  </thead>\n",
       "  <tbody>\n",
       "    <tr>\n",
       "      <th>0</th>\n",
       "      <td>892</td>\n",
       "      <td>0</td>\n",
       "    </tr>\n",
       "    <tr>\n",
       "      <th>1</th>\n",
       "      <td>893</td>\n",
       "      <td>1</td>\n",
       "    </tr>\n",
       "    <tr>\n",
       "      <th>2</th>\n",
       "      <td>894</td>\n",
       "      <td>0</td>\n",
       "    </tr>\n",
       "    <tr>\n",
       "      <th>3</th>\n",
       "      <td>895</td>\n",
       "      <td>0</td>\n",
       "    </tr>\n",
       "    <tr>\n",
       "      <th>4</th>\n",
       "      <td>896</td>\n",
       "      <td>1</td>\n",
       "    </tr>\n",
       "  </tbody>\n",
       "</table>\n",
       "</div>"
      ],
      "text/plain": [
       "   PassengerId  Survived\n",
       "0          892         0\n",
       "1          893         1\n",
       "2          894         0\n",
       "3          895         0\n",
       "4          896         1"
      ]
     },
     "execution_count": 36,
     "metadata": {},
     "output_type": "execute_result"
    }
   ],
   "source": [
    "output_forest = pd.DataFrame({'PassengerId': test_data.PassengerId, 'Survived': results})\n",
    "output_forest.to_csv('output_forest.csv', index=False)\n",
    "print(output_forest.shape)\n",
    "output_forest.head()"
   ]
  },
  {
   "cell_type": "markdown",
   "id": "3d490724-fc98-4310-9b82-f162f68bb9d6",
   "metadata": {},
   "source": [
    "## Conclusion\n",
    "\n",
    "The model got an accuracy of 0.75119, which is fairly lower than I expected. As I improve my skills, I'll probable update this software to get a better result."
   ]
  }
 ],
 "metadata": {
  "kernelspec": {
   "display_name": "Python 3 (ipykernel)",
   "language": "python",
   "name": "python3"
  },
  "language_info": {
   "codemirror_mode": {
    "name": "ipython",
    "version": 3
   },
   "file_extension": ".py",
   "mimetype": "text/x-python",
   "name": "python",
   "nbconvert_exporter": "python",
   "pygments_lexer": "ipython3",
   "version": "3.9.7"
  }
 },
 "nbformat": 4,
 "nbformat_minor": 5
}
